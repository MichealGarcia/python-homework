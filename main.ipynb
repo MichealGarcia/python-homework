{
 "cells": [
  {
   "cell_type": "code",
   "execution_count": 53,
   "metadata": {},
   "outputs": [],
   "source": [
    "\"\"\"\n",
    "I need to create a script that analyzes a csv file. \n",
    "I need:\n",
    "Total number of months in the data set\n",
    "Net total of PnL over entire period\n",
    "average of the changes in PnL over entire period\n",
    "Greatest increase in profits (date and amount)\n",
    "Greates decrease in losses (date and amount)\n",
    "\n",
    "\"\"\"\n",
    "#import from the path and pathlib\n",
    "from pathlib import Path\n",
    "import csv\n",
    "import pandas as pd\n",
    "\n",
    "\n",
    "        \n",
    " "
   ]
  },
  {
   "cell_type": "code",
   "execution_count": 54,
   "metadata": {},
   "outputs": [
    {
     "data": {
      "text/html": [
       "<div>\n",
       "<style scoped>\n",
       "    .dataframe tbody tr th:only-of-type {\n",
       "        vertical-align: middle;\n",
       "    }\n",
       "\n",
       "    .dataframe tbody tr th {\n",
       "        vertical-align: top;\n",
       "    }\n",
       "\n",
       "    .dataframe thead th {\n",
       "        text-align: right;\n",
       "    }\n",
       "</style>\n",
       "<table border=\"1\" class=\"dataframe\">\n",
       "  <thead>\n",
       "    <tr style=\"text-align: right;\">\n",
       "      <th></th>\n",
       "      <th>date</th>\n",
       "      <th>pnl</th>\n",
       "    </tr>\n",
       "  </thead>\n",
       "  <tbody>\n",
       "    <tr>\n",
       "      <th>0</th>\n",
       "      <td>Jan-2010</td>\n",
       "      <td>867884</td>\n",
       "    </tr>\n",
       "    <tr>\n",
       "      <th>1</th>\n",
       "      <td>Feb-2010</td>\n",
       "      <td>984655</td>\n",
       "    </tr>\n",
       "    <tr>\n",
       "      <th>2</th>\n",
       "      <td>Mar-2010</td>\n",
       "      <td>322013</td>\n",
       "    </tr>\n",
       "    <tr>\n",
       "      <th>3</th>\n",
       "      <td>Apr-2010</td>\n",
       "      <td>-69417</td>\n",
       "    </tr>\n",
       "    <tr>\n",
       "      <th>4</th>\n",
       "      <td>May-2010</td>\n",
       "      <td>310503</td>\n",
       "    </tr>\n",
       "  </tbody>\n",
       "</table>\n",
       "</div>"
      ],
      "text/plain": [
       "       date     pnl\n",
       "0  Jan-2010  867884\n",
       "1  Feb-2010  984655\n",
       "2  Mar-2010  322013\n",
       "3  Apr-2010  -69417\n",
       "4  May-2010  310503"
      ]
     },
     "execution_count": 54,
     "metadata": {},
     "output_type": "execute_result"
    }
   ],
   "source": [
    "#First I need to add the file path I will be pulling data from.\n",
    "csv_path = Path(\"C:/Users/miche/python-homework/data/budget_data.csv\")\n",
    "#make the csv file into an object\n",
    "df = pd.read_csv(csv_path)\n",
    "#and lets change our profit/losses column header to pnl\n",
    "df = df.rename(columns={\n",
    "    \"Date\": \"date\",\n",
    "    \"Profit/Losses\": \"pnl\"\n",
    "})\n",
    "df.head()"
   ]
  },
  {
   "cell_type": "code",
   "execution_count": 55,
   "metadata": {},
   "outputs": [],
   "source": [
    "#initialize dictionary for data to enter\n",
    "count_months = 0\n",
    "net_pnl = 0\n",
    "net_pnl_change = 0\n",
    "min_pnl = 0\n",
    "max_pnl = 0\n",
    "date_roc_dict  = {}\n"
   ]
  },
  {
   "cell_type": "code",
   "execution_count": 56,
   "metadata": {},
   "outputs": [],
   "source": [
    "#find difference between pnl months and add to our csv\n",
    "df['roc'] = df['pnl'].diff()\n",
    "\n"
   ]
  },
  {
   "cell_type": "code",
   "execution_count": 57,
   "metadata": {},
   "outputs": [],
   "source": [
    "#count the total months in our dataframe\n",
    "count_months = int(df.date.count())\n"
   ]
  },
  {
   "cell_type": "code",
   "execution_count": 58,
   "metadata": {},
   "outputs": [],
   "source": [
    "#find net total pnl of our dataframe\n",
    "net_pnl = int(df.pnl.sum())\n"
   ]
  },
  {
   "cell_type": "code",
   "execution_count": 59,
   "metadata": {},
   "outputs": [],
   "source": [
    "#calculate net average change in pnl\n",
    "net_pnl_change = round(sum(df['roc'][1:])/(count_months - 1), 2)\n"
   ]
  },
  {
   "cell_type": "code",
   "execution_count": 60,
   "metadata": {},
   "outputs": [],
   "source": [
    "min_pnl = int(df.roc.min())\n"
   ]
  },
  {
   "cell_type": "code",
   "execution_count": 61,
   "metadata": {},
   "outputs": [],
   "source": [
    "max_pnl = int(df.roc.max())\n",
    "\n"
   ]
  },
  {
   "cell_type": "code",
   "execution_count": 62,
   "metadata": {},
   "outputs": [],
   "source": [
    "df = df.dropna().copy()"
   ]
  },
  {
   "cell_type": "code",
   "execution_count": 63,
   "metadata": {},
   "outputs": [],
   "source": [
    "df.set_index(pd.to_datetime(df['date'], infer_datetime_format=True), inplace=True)\n",
    "date_roc = df.drop(columns=['date', 'pnl']).copy()\n",
    "\n",
    "\n"
   ]
  },
  {
   "cell_type": "code",
   "execution_count": 64,
   "metadata": {},
   "outputs": [],
   "source": [
    "date_roc_dict = dict(zip(list(df.date), list(df.roc)))\n",
    "\n",
    "\n"
   ]
  },
  {
   "cell_type": "code",
   "execution_count": 65,
   "metadata": {},
   "outputs": [],
   "source": [
    "date_roc_dict = dict(zip(list(df.date), list(df.roc)))\n",
    "def get_key(max_pnl):\n",
    "    for key, value in df['roc'].items():\n",
    "        if max_pnl == value:\n",
    "            return key\n",
    "max_date = get_key(max_pnl)\n",
    "def get_key(min_pnl):\n",
    "    for key, value in df['roc'].items():\n",
    "        if min_pnl == value:\n",
    "            return key\n",
    "min_date = get_key(min_pnl)"
   ]
  },
  {
   "cell_type": "code",
   "execution_count": 66,
   "metadata": {},
   "outputs": [],
   "source": [
    "output_file = Path(\"output.txt\")\n",
    "with open(output_file, 'w') as file:\n",
    "    file.write(f\"Financial Analysis\\n\")\n",
    "    file.write(\"::::::::::::::::::::::::::::::::::::\\n\")\n",
    "    file.write(f\"Total Months: {count_months}\\n\")\n",
    "    file.write(f\"Total: ${net_pnl}\\n\")\n",
    "    file.write(f\"Average Change: ${net_pnl_change}\\n\")\n",
    "    file.write(f\"Greatest Increase In Profits: {max_date} (${max_pnl})\\n\")\n",
    "    file.write(f\"Greatest Decrease In Profits: {min_date} (${min_pnl})\\n\")"
   ]
  },
  {
   "cell_type": "code",
   "execution_count": null,
   "metadata": {},
   "outputs": [],
   "source": []
  }
 ],
 "metadata": {
  "kernelspec": {
   "display_name": "Python 3",
   "language": "python",
   "name": "python3"
  },
  "language_info": {
   "codemirror_mode": {
    "name": "ipython",
    "version": 3
   },
   "file_extension": ".py",
   "mimetype": "text/x-python",
   "name": "python",
   "nbconvert_exporter": "python",
   "pygments_lexer": "ipython3",
   "version": "3.8.3"
  }
 },
 "nbformat": 4,
 "nbformat_minor": 4
}
